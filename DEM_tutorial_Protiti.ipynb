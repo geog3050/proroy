{
 "cells": [
  {
   "cell_type": "code",
   "execution_count": 1,
   "metadata": {},
   "outputs": [],
   "source": [
    "# TO INPUT A DEM RASTER AND OBTAIN A SLOPE AND ASPECT RASTER LAYER\n",
    "import arcpy"
   ]
  },
  {
   "cell_type": "code",
   "execution_count": 2,
   "metadata": {},
   "outputs": [],
   "source": [
    "# Set up workspace and environment settings\n",
    "arcpy.env.workspace = r\"C:/Users/roypr/Downloads/Raster data\"\n",
    "arcpy.env.overwriteOutput = True"
   ]
  },
  {
   "cell_type": "code",
   "execution_count": 3,
   "metadata": {},
   "outputs": [],
   "source": [
    "# Input DEM raster file (TIFF format)\n",
    "input_dem = r\"C:/Users/roypr/Downloads/Raster data/JEZ_ctx_B_soc_008_DTM_MOLAtopography_DeltaGeoid_20m_Eqc_latTs0_lon0.tif\""
   ]
  },
  {
   "cell_type": "code",
   "execution_count": 4,
   "metadata": {},
   "outputs": [],
   "source": [
    "# Output slope and aspect raster files\n",
    "slope_output = r\"C:/Users/roypr/Downloads/Raster data/slope.tif\"\n",
    "aspect_output = r\"C:/Users/roypr/Downloads/Raster data/aspect.tif\""
   ]
  },
  {
   "cell_type": "code",
   "execution_count": 5,
   "metadata": {},
   "outputs": [],
   "source": [
    "# Generate slope raster\n",
    "slope_raster = arcpy.sa.Slope(input_dem, output_measurement='DEGREE')\n",
    "slope_raster.save(slope_output)"
   ]
  },
  {
   "cell_type": "code",
   "execution_count": 6,
   "metadata": {},
   "outputs": [
    {
     "name": "stdout",
     "output_type": "stream",
     "text": [
      "Process completed successfully.\n"
     ]
    }
   ],
   "source": [
    "# Generate aspect raster\n",
    "aspect_raster = arcpy.sa.Aspect(input_dem)\n",
    "aspect_raster.save(aspect_output)\n",
    "\n",
    "print(\"Process completed successfully.\")"
   ]
  },
  {
   "cell_type": "code",
   "execution_count": 7,
   "metadata": {},
   "outputs": [],
   "source": [
    "# TO USE THE SLOPE AND ASPECT RASTER LAYER AS INPUT AND RECLASSIFY THEM\n",
    "# Input slope and aspect raster files\n",
    "slope_input = r\"C:/Users/roypr/Downloads/Raster data/slope.tif\"\n",
    "aspect_input = r\"C:/Users/roypr/Downloads/Raster data/aspect.tif\""
   ]
  },
  {
   "cell_type": "code",
   "execution_count": 8,
   "metadata": {},
   "outputs": [],
   "source": [
    "# Get minimum and maximum values for slope and aspect rasters\n",
    "slope_min = arcpy.GetRasterProperties_management(slope_input, \"MINIMUM\")\n",
    "slope_max = arcpy.GetRasterProperties_management(slope_input, \"MAXIMUM\")\n",
    "aspect_min = arcpy.GetRasterProperties_management(aspect_input, \"MINIMUM\")\n",
    "aspect_max = arcpy.GetRasterProperties_management(aspect_input, \"MAXIMUM\")"
   ]
  },
  {
   "cell_type": "code",
   "execution_count": 9,
   "metadata": {},
   "outputs": [],
   "source": [
    "# Convert values to float\n",
    "slope_min = float(slope_min.getOutput(0))\n",
    "slope_max = float(slope_max.getOutput(0))\n",
    "aspect_min = float(aspect_min.getOutput(0))\n",
    "aspect_max = float(aspect_max.getOutput(0))"
   ]
  },
  {
   "cell_type": "code",
   "execution_count": 10,
   "metadata": {},
   "outputs": [],
   "source": [
    "# Output reclassified slope and aspect raster files\n",
    "reclassified_slope_output = r\"C:/Users/roypr/Downloads/Raster data/reclassified_slope.tif\"\n",
    "reclassified_aspect_output = r\"C:/Users/roypr/Downloads/Raster data/reclassified_aspect.tif\""
   ]
  },
  {
   "cell_type": "code",
   "execution_count": 11,
   "metadata": {},
   "outputs": [],
   "source": [
    "# Reclassify slope\n",
    "slope_interval = 10\n",
    "slope_classes = int((slope_max - slope_min) / slope_interval) + 1\n",
    "remap_slope = arcpy.sa.RemapRange([[slope_min + i * slope_interval, slope_min + (i + 1) * slope_interval, i + 1] for i in range(slope_classes)])\n",
    "reclassified_slope_raster = arcpy.sa.Reclassify(slope_input, \"VALUE\", remap_slope)\n",
    "reclassified_slope_raster.save(reclassified_slope_output)"
   ]
  },
  {
   "cell_type": "code",
   "execution_count": 12,
   "metadata": {},
   "outputs": [
    {
     "name": "stdout",
     "output_type": "stream",
     "text": [
      "Reclassification completed successfully.\n"
     ]
    }
   ],
   "source": [
    "# Reclassify aspect\n",
    "aspect_interval = 25\n",
    "aspect_classes = int((aspect_max - aspect_min) / aspect_interval) + 1\n",
    "remap_aspect = arcpy.sa.RemapRange([[aspect_min + i * aspect_interval, aspect_min + (i + 1) * aspect_interval, i + 1] for i in range(aspect_classes)])\n",
    "reclassified_aspect_raster = arcpy.sa.Reclassify(aspect_input, \"VALUE\", remap_aspect)\n",
    "reclassified_aspect_raster.save(reclassified_aspect_output)\n",
    "\n",
    "print(\"Reclassification completed successfully.\")"
   ]
  },
  {
   "cell_type": "code",
   "execution_count": 13,
   "metadata": {},
   "outputs": [],
   "source": [
    "# TO USE THE RECLASSIFIED SLOPE AND ASPECT RASTER LAYER AND CREATE A BOOLEAN RASTER OVERLAY TO DISPLAY THE HIGHEST ELEVATIONS\n",
    "# Paths to reclassified slope and aspect raster files\n",
    "reclassified_slope = r\"C:/Users/roypr/Downloads/Raster data/reclassified_slope.tif\"\n",
    "reclassified_aspect = r\"C:/Users/roypr/Downloads/Raster data/reclassified_aspect.tif\""
   ]
  },
  {
   "cell_type": "code",
   "execution_count": 14,
   "metadata": {},
   "outputs": [],
   "source": [
    "# Output path for the boolean overlay raster\n",
    "overlay_output = r\"C:/Users/roypr/Downloads/Raster data/slope_aspect_overlay.tif\""
   ]
  },
  {
   "cell_type": "code",
   "execution_count": 15,
   "metadata": {},
   "outputs": [
    {
     "name": "stdout",
     "output_type": "stream",
     "text": [
      "Boolean raster overlay completed successfully.\n"
     ]
    }
   ],
   "source": [
    "# Perform boolean raster overlay (AND operation)\n",
    "overlay_raster = arcpy.sa.Con((arcpy.sa.Raster(reclassified_slope) == 1) & (arcpy.sa.Raster(reclassified_aspect) == 1), 1, 0)\n",
    "overlay_raster.save(overlay_output)\n",
    "\n",
    "print(\"Boolean raster overlay completed successfully.\")"
   ]
  },
  {
   "cell_type": "code",
   "execution_count": 16,
   "metadata": {},
   "outputs": [],
   "source": [
    "# TO CREATE A CONTOUR RASTER LAYER FROM THE INPUT DEM RASTER\n",
    "# Input DEM raster file\n",
    "dem_input = r\"C:/Users/roypr/Downloads/Raster data/JEZ_ctx_B_soc_008_DTM_MOLAtopography_DeltaGeoid_20m_Eqc_latTs0_lon0.tif\""
   ]
  },
  {
   "cell_type": "code",
   "execution_count": 17,
   "metadata": {},
   "outputs": [],
   "source": [
    "# Output contour feature class\n",
    "contour_output = r\"C:/Users/roypr/Downloads/Raster data/contours.shp\""
   ]
  },
  {
   "cell_type": "code",
   "execution_count": 18,
   "metadata": {},
   "outputs": [],
   "source": [
    "# Contour interval (optional, adjust as needed)\n",
    "contour_interval = 10"
   ]
  },
  {
   "cell_type": "code",
   "execution_count": 19,
   "metadata": {},
   "outputs": [
    {
     "name": "stdout",
     "output_type": "stream",
     "text": [
      "Contour generation completed successfully.\n"
     ]
    }
   ],
   "source": [
    "# Create contours\n",
    "arcpy.Contour_3d(dem_input, contour_output, contour_interval)\n",
    "\n",
    "print(\"Contour generation completed successfully.\")"
   ]
  },
  {
   "cell_type": "code",
   "execution_count": null,
   "metadata": {},
   "outputs": [],
   "source": []
  }
 ],
 "metadata": {
  "kernelspec": {
   "display_name": "ArcGISPro",
   "language": "Python",
   "name": "python3"
  },
  "language_info": {
   "file_extension": ".py",
   "name": "python",
   "version": "3"
  }
 },
 "nbformat": 4,
 "nbformat_minor": 2
}
